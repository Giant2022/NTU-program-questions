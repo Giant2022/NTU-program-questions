{
 "cells": [
  {
   "cell_type": "code",
   "execution_count": 3,
   "id": "b064f2b0",
   "metadata": {},
   "outputs": [],
   "source": [
    "def f(x,y,z):\n",
    "    e=(600+150)*x-100*y*z\n",
    "    return e\n",
    "\n",
    "def g(x,y,z):\n",
    "    es=100*y*z-(600+150)*x\n",
    "    return es\n",
    "\n",
    "def l(x,y,z):\n",
    "    s=600*x-100*y*z\n",
    "    return s\n",
    "\n",
    "def k(x):\n",
    "    p=150*x\n",
    "    return p\n"
   ]
  },
  {
   "cell_type": "code",
   "execution_count": 4,
   "id": "7e09bf8d",
   "metadata": {},
   "outputs": [
    {
     "name": "stdout",
     "output_type": "stream",
     "text": [
      "The concentration of ES, E, S:  (3635078.75, 0, 3633555.0)\n"
     ]
    }
   ],
   "source": [
    "def rk4():\n",
    "    \n",
    "    x=0\n",
    "    y=1\n",
    "    z=10\n",
    "    h=0.02\n",
    "    \n",
    "    k1=f(x,y,z)\n",
    "    g1=g(x,y,z)\n",
    "    l1=l(x,y,z)\n",
    "    \n",
    "    k2=f(x+0.5*h*k1,y+0.5*h*g1,z+0.5*h*l1)\n",
    "    g2=g(x+0.5*h*k1,y+0.5*h*g1,z+0.5*h*l1)\n",
    "    l2=l(x+0.5*h*k1,y+0.5*h*g1,z+0.5*h*l1)\n",
    "    \n",
    "    k3=f(x+0.5*h*k2,y+0.5*h*g2,z+0.5*h*l2)\n",
    "    g3=g(x+0.5*h*k2,y+0.5*h*g2,z+0.5*h*l2)\n",
    "    l3=l(x+0.5*h*k2,y+0.5*h*g2,z+0.5*h*l2)\n",
    "    \n",
    "    k4=f(x+0.5*h*k3,y+0.5*h*g3,z+0.5*h*l3)\n",
    "    g4=g(x+0.5*h*k3,y+0.5*h*g3,z+0.5*h*l3)\n",
    "    l4=l(x+0.5*h*k3,y+0.5*h*g3,z+0.5*h*l3)\n",
    "    \n",
    "    \n",
    "    x=x+(k1+2*k2+2*k3+k4)*h/6\n",
    "    y=y+(g1+2*g2+2*g3+g4)*h/6\n",
    "    z=z+(l1+2*l2+2*l3+l4)*h/6\n",
    "    \n",
    "    if y<0:\n",
    "        y=0\n",
    "   \n",
    "    return x,y,z\n",
    "\n",
    "print(\"The concentration of ES, E, S: \", rk4())\n",
    " "
   ]
  }
 ],
 "metadata": {
  "kernelspec": {
   "display_name": "Python 3",
   "language": "python",
   "name": "python3"
  },
  "language_info": {
   "codemirror_mode": {
    "name": "ipython",
    "version": 3
   },
   "file_extension": ".py",
   "mimetype": "text/x-python",
   "name": "python",
   "nbconvert_exporter": "python",
   "pygments_lexer": "ipython3",
   "version": "3.8.8"
  }
 },
 "nbformat": 4,
 "nbformat_minor": 5
}
